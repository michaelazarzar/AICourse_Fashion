{
 "cells": [
  {
   "cell_type": "code",
   "execution_count": 1,
   "id": "152267b8",
   "metadata": {},
   "outputs": [
    {
     "name": "stdout",
     "output_type": "stream",
     "text": [
      "\u001b[33mWARNING: Skipping opencv-python-headless as it is not installed.\u001b[0m\r\n"
     ]
    }
   ],
   "source": [
    "!pip uninstall opencv-python-headless==4.5.3.56 --yes\n"
   ]
  },
  {
   "cell_type": "code",
   "execution_count": 2,
   "id": "7d4aa13b",
   "metadata": {},
   "outputs": [
    {
     "name": "stdout",
     "output_type": "stream",
     "text": [
      "Defaulting to user installation because normal site-packages is not writeable\n",
      "\u001b[31mERROR: Could not find a version that satisfies the requirement opencv-python==4.1.2.30 (from versions: 3.4.0.14, 3.4.10.37, 3.4.11.39, 3.4.11.41, 3.4.11.43, 3.4.11.45, 3.4.13.47, 3.4.14.51, 3.4.14.53, 3.4.15.55, 3.4.16.57, 3.4.16.59, 3.4.17.61, 3.4.17.63, 4.3.0.38, 4.4.0.40, 4.4.0.42, 4.4.0.44, 4.4.0.46, 4.5.1.48, 4.5.2.52, 4.5.2.54, 4.5.3.56, 4.5.4.58, 4.5.4.60, 4.5.5.62, 4.5.5.64)\u001b[0m\n",
      "\u001b[31mERROR: No matching distribution found for opencv-python==4.1.2.30\u001b[0m\n",
      "Defaulting to user installation because normal site-packages is not writeable\n",
      "Requirement already satisfied: imageio in /home/jupyter-e4-michaelazarzar/.local/lib/python3.9/site-packages (2.16.1)\n",
      "Requirement already satisfied: numpy>=1.20.0 in /opt/tljh/user/lib/python3.9/site-packages (from imageio) (1.22.0)\n",
      "Requirement already satisfied: pillow>=8.3.2 in /opt/tljh/user/lib/python3.9/site-packages (from imageio) (9.0.0)\n",
      "Defaulting to user installation because normal site-packages is not writeable\n",
      "Requirement already satisfied: onnxruntime in /home/jupyter-e4-michaelazarzar/.local/lib/python3.9/site-packages (1.11.0)\n",
      "Requirement already satisfied: flatbuffers in /home/jupyter-e4-michaelazarzar/.local/lib/python3.9/site-packages (from onnxruntime) (1.12)\n",
      "Requirement already satisfied: protobuf in /opt/tljh/user/lib/python3.9/site-packages (from onnxruntime) (3.19.3)\n",
      "Requirement already satisfied: numpy>=1.21.0 in /opt/tljh/user/lib/python3.9/site-packages (from onnxruntime) (1.22.0)\n",
      "Defaulting to user installation because normal site-packages is not writeable\n",
      "Requirement already satisfied: keras2onnx in /home/jupyter-e4-michaelazarzar/.local/lib/python3.9/site-packages (1.7.0)\n",
      "Requirement already satisfied: onnx in /home/jupyter-e4-michaelazarzar/.local/lib/python3.9/site-packages (from keras2onnx) (1.11.0)\n",
      "Requirement already satisfied: protobuf in /opt/tljh/user/lib/python3.9/site-packages (from keras2onnx) (3.19.3)\n",
      "Requirement already satisfied: onnxconverter-common>=1.7.0 in /home/jupyter-e4-michaelazarzar/.local/lib/python3.9/site-packages (from keras2onnx) (1.9.0)\n",
      "Requirement already satisfied: fire in /home/jupyter-e4-michaelazarzar/.local/lib/python3.9/site-packages (from keras2onnx) (0.4.0)\n",
      "Requirement already satisfied: requests in /opt/tljh/user/lib/python3.9/site-packages (from keras2onnx) (2.26.0)\n",
      "Requirement already satisfied: numpy in /opt/tljh/user/lib/python3.9/site-packages (from keras2onnx) (1.22.0)\n",
      "Requirement already satisfied: termcolor in /opt/tljh/user/lib/python3.9/site-packages (from fire->keras2onnx) (1.1.0)\n",
      "Requirement already satisfied: six in /opt/tljh/user/lib/python3.9/site-packages (from fire->keras2onnx) (1.16.0)\n",
      "Requirement already satisfied: typing-extensions>=3.6.2.1 in /opt/tljh/user/lib/python3.9/site-packages (from onnx->keras2onnx) (4.0.1)\n",
      "Requirement already satisfied: charset-normalizer~=2.0.0 in /opt/tljh/user/lib/python3.9/site-packages (from requests->keras2onnx) (2.0.0)\n",
      "Requirement already satisfied: certifi>=2017.4.17 in /opt/tljh/user/lib/python3.9/site-packages (from requests->keras2onnx) (2021.10.8)\n",
      "Requirement already satisfied: idna<4,>=2.5 in /opt/tljh/user/lib/python3.9/site-packages (from requests->keras2onnx) (3.1)\n",
      "Requirement already satisfied: urllib3<1.27,>=1.21.1 in /opt/tljh/user/lib/python3.9/site-packages (from requests->keras2onnx) (1.26.7)\n",
      "Defaulting to user installation because normal site-packages is not writeable\n",
      "Requirement already satisfied: tf2onnx in /home/jupyter-e4-michaelazarzar/.local/lib/python3.9/site-packages (1.9.3)\n",
      "Requirement already satisfied: six in /opt/tljh/user/lib/python3.9/site-packages (from tf2onnx) (1.16.0)\n",
      "Requirement already satisfied: flatbuffers~=1.12 in /home/jupyter-e4-michaelazarzar/.local/lib/python3.9/site-packages (from tf2onnx) (1.12)\n",
      "Requirement already satisfied: requests in /opt/tljh/user/lib/python3.9/site-packages (from tf2onnx) (2.26.0)\n",
      "Requirement already satisfied: numpy>=1.14.1 in /opt/tljh/user/lib/python3.9/site-packages (from tf2onnx) (1.22.0)\n",
      "Requirement already satisfied: onnx>=1.4.1 in /home/jupyter-e4-michaelazarzar/.local/lib/python3.9/site-packages (from tf2onnx) (1.11.0)\n",
      "Requirement already satisfied: protobuf>=3.12.2 in /opt/tljh/user/lib/python3.9/site-packages (from onnx>=1.4.1->tf2onnx) (3.19.3)\n",
      "Requirement already satisfied: typing-extensions>=3.6.2.1 in /opt/tljh/user/lib/python3.9/site-packages (from onnx>=1.4.1->tf2onnx) (4.0.1)\n",
      "Requirement already satisfied: charset-normalizer~=2.0.0 in /opt/tljh/user/lib/python3.9/site-packages (from requests->tf2onnx) (2.0.0)\n",
      "Requirement already satisfied: idna<4,>=2.5 in /opt/tljh/user/lib/python3.9/site-packages (from requests->tf2onnx) (3.1)\n",
      "Requirement already satisfied: urllib3<1.27,>=1.21.1 in /opt/tljh/user/lib/python3.9/site-packages (from requests->tf2onnx) (1.26.7)\n",
      "Requirement already satisfied: certifi>=2017.4.17 in /opt/tljh/user/lib/python3.9/site-packages (from requests->tf2onnx) (2021.10.8)\n",
      "Defaulting to user installation because normal site-packages is not writeable\n",
      "Requirement already satisfied: pyyaml in /opt/tljh/user/lib/python3.9/site-packages (6.0)\n",
      "Requirement already satisfied: h5py in /opt/tljh/user/lib/python3.9/site-packages (3.6.0)\n",
      "Requirement already satisfied: numpy>=1.14.5 in /opt/tljh/user/lib/python3.9/site-packages (from h5py) (1.22.0)\n"
     ]
    }
   ],
   "source": [
    "# WandB – Install the W&B library\n",
    "!pip install wandb -q\n",
    "!pip install opencv-python==4.1.2.30\n",
    "!pip install imageio\n",
    "!pip install onnxruntime\n",
    "!pip install keras2onnx\n",
    "!pip install tf2onnx\n",
    "!pip install pyyaml h5py\n"
   ]
  },
  {
   "cell_type": "code",
   "execution_count": 3,
   "id": "7b9d8701",
   "metadata": {},
   "outputs": [
    {
     "name": "stderr",
     "output_type": "stream",
     "text": [
      "2022-04-03 16:58:14.777703: W tensorflow/stream_executor/platform/default/dso_loader.cc:64] Could not load dynamic library 'libcudart.so.11.0'; dlerror: libcudart.so.11.0: cannot open shared object file: No such file or directory\n",
      "2022-04-03 16:58:14.777758: I tensorflow/stream_executor/cuda/cudart_stub.cc:29] Ignore above cudart dlerror if you do not have a GPU set up on your machine.\n"
     ]
    }
   ],
   "source": [
    "import numpy as np\n",
    "import tensorflow as tf\n",
    "\n",
    "from tensorflow import keras\n",
    "from tensorflow.keras import layers\n",
    "from tensorflow.keras.models import Sequential\n",
    "from tensorflow.keras.layers import Conv2D, MaxPooling2D, Dense, Flatten\n",
    "from tensorflow.keras.utils import to_categorical\n",
    "\n",
    "import wandb\n",
    "from wandb.keras import WandbCallback\n",
    "\n",
    "import tf2onnx\n",
    "import onnx\n",
    "\n",
    "import imageio, glob, cv2\n",
    "import matplotlib.pyplot as plt\n",
    "%matplotlib inline"
   ]
  },
  {
   "cell_type": "code",
   "execution_count": 4,
   "id": "cf000808",
   "metadata": {},
   "outputs": [],
   "source": [
    "(train_images, train_labels),(test_images, test_labels) = keras.datasets.fashion_mnist.load_data()"
   ]
  },
  {
   "cell_type": "code",
   "execution_count": 5,
   "id": "0cce2900",
   "metadata": {},
   "outputs": [
    {
     "name": "stdout",
     "output_type": "stream",
     "text": [
      "[0 1 2 3 4 5 6 7 8 9]\n",
      "(28, 28, 1)\n"
     ]
    }
   ],
   "source": [
    "# Reshape the images.\n",
    "train_images_re = np.expand_dims(train_images, axis=3)\n",
    "test_images_re = np.expand_dims(test_images, axis=3)\n",
    "\n",
    "classes = np.unique(train_labels)\n",
    "input_shape = train_images_re[0].shape\n",
    "\n",
    "print(classes)\n",
    "print(input_shape)\n"
   ]
  },
  {
   "cell_type": "code",
   "execution_count": 6,
   "id": "a5b1e5d1",
   "metadata": {},
   "outputs": [],
   "source": [
    "#plt.figure(figsize=(10,10))\n",
    "#plt.subplots_adjust(wspace=0, hspace=0)\n",
    "#i = 0\n",
    "#for item in train_images[:25]:\n",
    "#    print(item[0].shape)\n",
    "#    w, h = 28, 28\n",
    "#    data = np.zeros((h, w, 1), dtype=np.uint8)\n",
    "#    data[0:28, 0:28] = [item[0], item[1], 0]\n",
    "    #img = cv2.imread(item)\n",
    "    #img = cv2.resize(img, (250, 250))\n",
    "    #plt.axis('off')\n",
    "    #plt.subplot(5, 5, i+1) #.set_title(l)\n",
    "    #plt.imshow(cv2.cvtColor(img, cv2.COLOR_BGR2RGB))\n",
    "#    i += 1"
   ]
  },
  {
   "cell_type": "code",
   "execution_count": 7,
   "id": "d55db394",
   "metadata": {},
   "outputs": [],
   "source": [
    "def createModel(input_shape, num_classes):\n",
    "    model = Sequential([keras.Input(shape=input_shape),\n",
    "        layers.Conv2D(32, kernel_size=(3, 3), activation=\"relu\"),\n",
    "        layers.MaxPooling2D(pool_size=(2, 2)),\n",
    "        layers.Conv2D(64, kernel_size=(3, 3), activation=\"relu\"),\n",
    "        layers.MaxPooling2D(pool_size=(2, 2)),\n",
    "        layers.Conv2D(64, kernel_size=(3, 3), activation=\"relu\"),\n",
    "        layers.Flatten(),\n",
    "        layers.Dense(64, activation=\"relu\"),\n",
    "        layers.Dense(num_classes)])\n",
    "    return model"
   ]
  },
  {
   "cell_type": "code",
   "execution_count": 8,
   "id": "90006670",
   "metadata": {},
   "outputs": [
    {
     "name": "stderr",
     "output_type": "stream",
     "text": [
      "2022-04-03 16:58:18.640892: W tensorflow/stream_executor/platform/default/dso_loader.cc:64] Could not load dynamic library 'libcuda.so.1'; dlerror: libcuda.so.1: cannot open shared object file: No such file or directory\n",
      "2022-04-03 16:58:18.640951: W tensorflow/stream_executor/cuda/cuda_driver.cc:269] failed call to cuInit: UNKNOWN ERROR (303)\n",
      "2022-04-03 16:58:18.640979: I tensorflow/stream_executor/cuda/cuda_diagnostics.cc:156] kernel driver does not appear to be running on this host (driver): /proc/driver/nvidia/version does not exist\n",
      "2022-04-03 16:58:18.641304: I tensorflow/core/platform/cpu_feature_guard.cc:151] This TensorFlow binary is optimized with oneAPI Deep Neural Network Library (oneDNN) to use the following CPU instructions in performance-critical operations:  AVX2 FMA\n",
      "To enable them in other operations, rebuild TensorFlow with the appropriate compiler flags.\n"
     ]
    }
   ],
   "source": [
    "model = createModel(input_shape, len(classes))"
   ]
  },
  {
   "cell_type": "code",
   "execution_count": 9,
   "id": "90f4b51a",
   "metadata": {},
   "outputs": [
    {
     "name": "stdout",
     "output_type": "stream",
     "text": [
      "Model: \"sequential\"\n",
      "_________________________________________________________________\n",
      " Layer (type)                Output Shape              Param #   \n",
      "=================================================================\n",
      " conv2d (Conv2D)             (None, 26, 26, 32)        320       \n",
      "                                                                 \n",
      " max_pooling2d (MaxPooling2D  (None, 13, 13, 32)       0         \n",
      " )                                                               \n",
      "                                                                 \n",
      " conv2d_1 (Conv2D)           (None, 11, 11, 64)        18496     \n",
      "                                                                 \n",
      " max_pooling2d_1 (MaxPooling  (None, 5, 5, 64)         0         \n",
      " 2D)                                                             \n",
      "                                                                 \n",
      " conv2d_2 (Conv2D)           (None, 3, 3, 64)          36928     \n",
      "                                                                 \n",
      " flatten (Flatten)           (None, 576)               0         \n",
      "                                                                 \n",
      " dense (Dense)               (None, 64)                36928     \n",
      "                                                                 \n",
      " dense_1 (Dense)             (None, 10)                650       \n",
      "                                                                 \n",
      "=================================================================\n",
      "Total params: 93,322\n",
      "Trainable params: 93,322\n",
      "Non-trainable params: 0\n",
      "_________________________________________________________________\n"
     ]
    }
   ],
   "source": [
    "model.summary()"
   ]
  },
  {
   "cell_type": "code",
   "execution_count": 10,
   "id": "f2c706da",
   "metadata": {},
   "outputs": [
    {
     "name": "stdout",
     "output_type": "stream",
     "text": [
      "Epoch 1/10\n",
      "1500/1500 [==============================] - 47s 31ms/step - loss: 0.5971 - accuracy: 0.8082 - val_loss: 0.3992 - val_accuracy: 0.8539\n",
      "Epoch 2/10\n",
      "1500/1500 [==============================] - 45s 30ms/step - loss: 0.3625 - accuracy: 0.8694 - val_loss: 0.3565 - val_accuracy: 0.8676\n",
      "Epoch 3/10\n",
      "1500/1500 [==============================] - 45s 30ms/step - loss: 0.3184 - accuracy: 0.8834 - val_loss: 0.3338 - val_accuracy: 0.8818\n",
      "Epoch 4/10\n",
      "1500/1500 [==============================] - 45s 30ms/step - loss: 0.2929 - accuracy: 0.8920 - val_loss: 0.3163 - val_accuracy: 0.8863\n",
      "Epoch 5/10\n",
      "1500/1500 [==============================] - 45s 30ms/step - loss: 0.2722 - accuracy: 0.8992 - val_loss: 0.3135 - val_accuracy: 0.8884\n",
      "Epoch 6/10\n",
      "1500/1500 [==============================] - 45s 30ms/step - loss: 0.2562 - accuracy: 0.9038 - val_loss: 0.3071 - val_accuracy: 0.8900\n",
      "Epoch 7/10\n",
      "1500/1500 [==============================] - 45s 30ms/step - loss: 0.2420 - accuracy: 0.9092 - val_loss: 0.3186 - val_accuracy: 0.8915\n",
      "Epoch 8/10\n",
      "1500/1500 [==============================] - 46s 30ms/step - loss: 0.2304 - accuracy: 0.9141 - val_loss: 0.3304 - val_accuracy: 0.8884\n",
      "Epoch 9/10\n",
      "1500/1500 [==============================] - 45s 30ms/step - loss: 0.2210 - accuracy: 0.9164 - val_loss: 0.3297 - val_accuracy: 0.8903\n",
      "Epoch 10/10\n",
      "1500/1500 [==============================] - 45s 30ms/step - loss: 0.2088 - accuracy: 0.9226 - val_loss: 0.3432 - val_accuracy: 0.8848\n"
     ]
    }
   ],
   "source": [
    "num_epochs=10\n",
    "model.compile(optimizer='adam',\n",
    "              loss=tf.keras.losses.SparseCategoricalCrossentropy(from_logits=True),\n",
    "              metrics=['accuracy'])\n",
    "\n",
    "history = model.fit(train_images_re, train_labels, epochs=num_epochs, validation_split=0.2, verbose = 1)"
   ]
  },
  {
   "cell_type": "code",
   "execution_count": 11,
   "id": "9a6143d9",
   "metadata": {},
   "outputs": [
    {
     "name": "stdout",
     "output_type": "stream",
     "text": [
      "313/313 - 3s - loss: 0.3705 - accuracy: 0.8826 - 3s/epoch - 9ms/step\n"
     ]
    }
   ],
   "source": [
    "test_loss, test_acc = model.evaluate(test_images_re,  test_labels, verbose=2)"
   ]
  },
  {
   "cell_type": "code",
   "execution_count": 17,
   "id": "92a016c3",
   "metadata": {},
   "outputs": [
    {
     "name": "stdout",
     "output_type": "stream",
     "text": [
      "WARNING:tensorflow:From /home/jupyter-e4-michaelazarzar/.local/lib/python3.9/site-packages/tf2onnx/tf_loader.py:706: extract_sub_graph (from tensorflow.python.framework.graph_util_impl) is deprecated and will be removed in a future version.\n",
      "Instructions for updating:\n",
      "Use `tf.compat.v1.graph_util.extract_sub_graph`\n"
     ]
    },
    {
     "name": "stderr",
     "output_type": "stream",
     "text": [
      "2022-04-03 17:13:16.851937: I tensorflow/core/grappler/devices.cc:66] Number of eligible GPUs (core count >= 8, compute capability >= 0.0): 0\n",
      "2022-04-03 17:13:16.852154: I tensorflow/core/grappler/clusters/single_machine.cc:358] Starting new session\n",
      "2022-04-03 17:13:16.855055: I tensorflow/core/grappler/optimizers/meta_optimizer.cc:1149] Optimization results for grappler item: graph_to_optimize\n",
      "  function_optimizer: function_optimizer did nothing. time = 0.012ms.\n",
      "  function_optimizer: function_optimizer did nothing. time = 0.001ms.\n",
      "\n",
      "2022-04-03 17:13:16.917731: I tensorflow/core/grappler/devices.cc:66] Number of eligible GPUs (core count >= 8, compute capability >= 0.0): 0\n",
      "2022-04-03 17:13:16.917916: I tensorflow/core/grappler/clusters/single_machine.cc:358] Starting new session\n",
      "2022-04-03 17:13:16.926244: I tensorflow/core/grappler/optimizers/meta_optimizer.cc:1149] Optimization results for grappler item: graph_to_optimize\n",
      "  constant_folding: Graph size after: 31 nodes (-10), 40 edges (-10), time = 2.899ms.\n",
      "  function_optimizer: function_optimizer did nothing. time = 0.043ms.\n",
      "  constant_folding: Graph size after: 31 nodes (0), 40 edges (0), time = 1.396ms.\n",
      "  function_optimizer: function_optimizer did nothing. time = 0.042ms.\n",
      "\n"
     ]
    }
   ],
   "source": [
    "#input_sig = [tf.TensorSpec([3, 3], name='x')]\n",
    "onnx_model, _ = tf2onnx.convert.from_keras(model,\n",
    "                                           #input_sig,\n",
    "                                           opset=13)\n",
    "#onnx.save(onnx_model, \"models/onnx_mdl_01.onnx\")\n",
    "onnx.save(onnx_model, 'models/model.onnx')"
   ]
  },
  {
   "cell_type": "code",
   "execution_count": 14,
   "id": "78bc8b87",
   "metadata": {},
   "outputs": [],
   "source": [
    "model.save('models/model.h5')"
   ]
  },
  {
   "cell_type": "code",
   "execution_count": 16,
   "id": "84912dc4",
   "metadata": {},
   "outputs": [
    {
     "name": "stdout",
     "output_type": "stream",
     "text": [
      "Model: \"sequential\"\n",
      "_________________________________________________________________\n",
      " Layer (type)                Output Shape              Param #   \n",
      "=================================================================\n",
      " conv2d (Conv2D)             (None, 26, 26, 32)        320       \n",
      "                                                                 \n",
      " max_pooling2d (MaxPooling2D  (None, 13, 13, 32)       0         \n",
      " )                                                               \n",
      "                                                                 \n",
      " conv2d_1 (Conv2D)           (None, 11, 11, 64)        18496     \n",
      "                                                                 \n",
      " max_pooling2d_1 (MaxPooling  (None, 5, 5, 64)         0         \n",
      " 2D)                                                             \n",
      "                                                                 \n",
      " conv2d_2 (Conv2D)           (None, 3, 3, 64)          36928     \n",
      "                                                                 \n",
      " flatten (Flatten)           (None, 576)               0         \n",
      "                                                                 \n",
      " dense (Dense)               (None, 64)                36928     \n",
      "                                                                 \n",
      " dense_1 (Dense)             (None, 10)                650       \n",
      "                                                                 \n",
      "=================================================================\n",
      "Total params: 93,322\n",
      "Trainable params: 93,322\n",
      "Non-trainable params: 0\n",
      "_________________________________________________________________\n"
     ]
    }
   ],
   "source": [
    "model1 = keras.models.load_model('models/model.h5')\n",
    "model1.summary()"
   ]
  },
  {
   "cell_type": "code",
   "execution_count": null,
   "id": "7af9b6d7",
   "metadata": {},
   "outputs": [],
   "source": []
  }
 ],
 "metadata": {
  "kernelspec": {
   "display_name": "Python 3 (ipykernel)",
   "language": "python",
   "name": "python3"
  },
  "language_info": {
   "codemirror_mode": {
    "name": "ipython",
    "version": 3
   },
   "file_extension": ".py",
   "mimetype": "text/x-python",
   "name": "python",
   "nbconvert_exporter": "python",
   "pygments_lexer": "ipython3",
   "version": "3.9.7"
  }
 },
 "nbformat": 4,
 "nbformat_minor": 5
}
